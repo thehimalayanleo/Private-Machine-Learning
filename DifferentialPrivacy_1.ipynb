{
  "nbformat": 4,
  "nbformat_minor": 0,
  "metadata": {
    "colab": {
      "name": "DifferentialPrivacy-1.ipynb",
      "version": "0.3.2",
      "provenance": [],
      "collapsed_sections": [],
      "include_colab_link": true
    },
    "kernelspec": {
      "name": "python3",
      "display_name": "Python 3"
    }
  },
  "cells": [
    {
      "cell_type": "markdown",
      "metadata": {
        "id": "view-in-github",
        "colab_type": "text"
      },
      "source": [
        "<a href=\"https://colab.research.google.com/github/thehimalayanleo/Private-Machine-Learning/blob/master/DifferentialPrivacy_1.ipynb\" target=\"_parent\"><img src=\"https://colab.research.google.com/assets/colab-badge.svg\" alt=\"Open In Colab\"/></a>"
      ]
    },
    {
      "cell_type": "code",
      "metadata": {
        "id": "ukCglZ-1K7PT",
        "colab_type": "code",
        "colab": {}
      },
      "source": [
        "import torch "
      ],
      "execution_count": 0,
      "outputs": []
    },
    {
      "cell_type": "code",
      "metadata": {
        "id": "XquRDUHkLBf0",
        "colab_type": "code",
        "outputId": "d73d300e-58ba-4dc8-929f-a873eb961300",
        "colab": {
          "base_uri": "https://localhost:8080/",
          "height": 35
        }
      },
      "source": [
        "num_individuals = 5000\n",
        "database = torch.rand(num_individuals) > 0.5\n",
        "database"
      ],
      "execution_count": 0,
      "outputs": [
        {
          "output_type": "execute_result",
          "data": {
            "text/plain": [
              "tensor([1, 1, 1,  ..., 0, 1, 1], dtype=torch.uint8)"
            ]
          },
          "metadata": {
            "tags": []
          },
          "execution_count": 3
        }
      ]
    },
    {
      "cell_type": "code",
      "metadata": {
        "id": "DNzw_pxuLJZZ",
        "colab_type": "code",
        "outputId": "bdd363d3-c806-432d-8af0-deb76cfae146",
        "colab": {
          "base_uri": "https://localhost:8080/",
          "height": 35
        }
      },
      "source": [
        "def gen_parallel_dbs(db):\n",
        "  pdbs = []\n",
        "  len_db = len(db)\n",
        "  for indx in range(len_db):\n",
        "    temp_db = torch.cat((db[:indx], db[indx+1:]))\n",
        "    pdbs.append(temp_db)\n",
        "  return pdbs\n",
        "    \n",
        "parallel_database = gen_parallel_dbs(database)\n",
        "print(len(parallel_database[-1]))"
      ],
      "execution_count": 0,
      "outputs": [
        {
          "output_type": "stream",
          "text": [
            "4999\n"
          ],
          "name": "stdout"
        }
      ]
    },
    {
      "cell_type": "code",
      "metadata": {
        "id": "3337mpZMMJQn",
        "colab_type": "code",
        "colab": {}
      },
      "source": [
        "def gen_db_pdbs(n_indi):\n",
        "  db = torch.rand(n_indi) > 0.5\n",
        "  return db, gen_parallel_dbs(db)"
      ],
      "execution_count": 0,
      "outputs": []
    },
    {
      "cell_type": "code",
      "metadata": {
        "id": "g12CKrU4Mxwp",
        "colab_type": "code",
        "colab": {}
      },
      "source": [
        "## Let us see how the output of the same query changes with different parallel databases\n",
        "## Thus, we wish to find out the sensitivity of the database, which we do by finiding out\n",
        "## the maximum difference in queries over the parallel databases.\n",
        "\n",
        "# Simplest query possible, a sum!\n",
        "def query_sum(db):\n",
        "  return db.sum()"
      ],
      "execution_count": 0,
      "outputs": []
    },
    {
      "cell_type": "code",
      "metadata": {
        "id": "ZDMRBNNJPH13",
        "colab_type": "code",
        "outputId": "0fa39afd-f70c-46c3-9fdc-4b295ebf5ffb",
        "colab": {
          "base_uri": "https://localhost:8080/",
          "height": 35
        }
      },
      "source": [
        "db, pdbs = gen_db_pdbs(30)\n",
        "print(query_sum(db))"
      ],
      "execution_count": 0,
      "outputs": [
        {
          "output_type": "stream",
          "text": [
            "tensor(21)\n"
          ],
          "name": "stdout"
        }
      ]
    },
    {
      "cell_type": "code",
      "metadata": {
        "id": "oFBV0bFQPNYp",
        "colab_type": "code",
        "outputId": "4e870620-0cae-485b-caf6-21aa132604c2",
        "colab": {
          "base_uri": "https://localhost:8080/",
          "height": 35
        }
      },
      "source": [
        "# Let us find the sensitivity\n",
        "query_outputs = []\n",
        "for pdb in pdbs:\n",
        "  #print(query_sum(pdb))\n",
        "  query_outputs.append(query_sum(pdb))\n",
        "  \n",
        "torch.sort(torch.tensor(query_outputs))\n",
        "#print(query_outputs[0])\n",
        "sensitivity = query_outputs[len(query_outputs)-1]-query_outputs[0]\n",
        "print(sensitivity)"
      ],
      "execution_count": 0,
      "outputs": [
        {
          "output_type": "stream",
          "text": [
            "tensor(1)\n"
          ],
          "name": "stdout"
        }
      ]
    },
    {
      "cell_type": "code",
      "metadata": {
        "id": "Rd5r4A2YPkxz",
        "colab_type": "code",
        "colab": {}
      },
      "source": [
        "def sensitivity_calc(query, n_indi):\n",
        "  db, pdbs = gen_db_pdbs(n_indi)\n",
        "  sensitivity = 0\n",
        "  original_query = query(db)\n",
        "  #print(original_query)\n",
        "  for pdb in pdbs:\n",
        "    query_out = query(pdb)\n",
        "    diff = torch.abs(query_out - original_query)\n",
        "    #print(diff)\n",
        "    if diff > sensitivity:\n",
        "      sensitivity = diff\n",
        "  #print(sensitivity)\n",
        "  return db, pdbs, sensitivity"
      ],
      "execution_count": 0,
      "outputs": []
    },
    {
      "cell_type": "code",
      "metadata": {
        "id": "3ruauMuxS903",
        "colab_type": "code",
        "outputId": "875cb88b-309d-42c2-a6a9-7c87d56cac3c",
        "colab": {
          "base_uri": "https://localhost:8080/",
          "height": 54
        }
      },
      "source": [
        "db, pdbs, sensitivity = sensitivity_calc(query_sum, 20)\n",
        "print(sensitivity)"
      ],
      "execution_count": 0,
      "outputs": [
        {
          "output_type": "stream",
          "text": [
            "tensor(11)\n",
            "tensor(1)\n"
          ],
          "name": "stdout"
        }
      ]
    },
    {
      "cell_type": "code",
      "metadata": {
        "id": "ot437ChRTEW3",
        "colab_type": "code",
        "colab": {}
      },
      "source": [
        "def query_mean(db):\n",
        "  return db.float().mean()"
      ],
      "execution_count": 0,
      "outputs": []
    },
    {
      "cell_type": "code",
      "metadata": {
        "id": "lkET9gaPT34K",
        "colab_type": "code",
        "outputId": "a86137d6-eeb2-4644-fee7-3d89c4b423b4",
        "colab": {
          "base_uri": "https://localhost:8080/",
          "height": 54
        }
      },
      "source": [
        "db, pdbs, sensitivity = sensitivity_calc(query_mean, 10)\n",
        "print(sensitivity)"
      ],
      "execution_count": 0,
      "outputs": [
        {
          "output_type": "stream",
          "text": [
            "tensor(0.6000)\n",
            "tensor(0.0667)\n"
          ],
          "name": "stdout"
        }
      ]
    },
    {
      "cell_type": "code",
      "metadata": {
        "id": "6t8KiG5jT7N2",
        "colab_type": "code",
        "colab": {}
      },
      "source": [
        "def query_threshold(db, threshold = 5):\n",
        "  #print(threshold)\n",
        "  return (db.sum() > threshold).float()"
      ],
      "execution_count": 0,
      "outputs": []
    },
    {
      "cell_type": "code",
      "metadata": {
        "id": "cUc1NKEsU4iq",
        "colab_type": "code",
        "outputId": "f3674a0b-276d-460f-880e-ceb5c191cd07",
        "colab": {
          "base_uri": "https://localhost:8080/",
          "height": 35
        }
      },
      "source": [
        "#db, pdbs = gen_db_pdbs(10)\n",
        "#print(pdbs)\n",
        "#for pdb in pdbs:\n",
        "  #print(sen(pdb))\n",
        "  #print()\n",
        "  \n",
        "_, pdbs, s= sensitivity_calc(query_threshold, 11)\n",
        "#print(pdbs)\n",
        "print(s)"
      ],
      "execution_count": 0,
      "outputs": [
        {
          "output_type": "stream",
          "text": [
            "0\n"
          ],
          "name": "stdout"
        }
      ]
    },
    {
      "cell_type": "code",
      "metadata": {
        "id": "8rkOlKPDVUAn",
        "colab_type": "code",
        "outputId": "9cb7cdb9-326a-43d6-8a0e-9d3fa191a8df",
        "colab": {
          "base_uri": "https://localhost:8080/",
          "height": 72
        }
      },
      "source": [
        "## Differencing Attack. Find sum of a single individual. Take sum of entire db and take sum without\n",
        "## that individual\n",
        "\n",
        "db, _ = gen_db_pdbs(100)\n",
        "def differencing_attack (db, indx, query, thresh=5):\n",
        "  if query == query_threshold:\n",
        "    return torch.abs(query(db, thresh)-query(torch.cat((db[:indx], db[indx+1:])), thresh))\n",
        "  return torch.abs(query(db)-query(torch.cat((db[:indx], db[indx+1:]))))\n",
        "\n",
        "print(differencing_attack(db, 10, query_sum))\n",
        "print(differencing_attack(db, 10, query_mean))\n",
        "#query_threshold.threshold = 49\n",
        "print(differencing_attack(db, 10, query_threshold, 50))\n"
      ],
      "execution_count": 0,
      "outputs": [
        {
          "output_type": "stream",
          "text": [
            "tensor(0)\n",
            "tensor(0.0059)\n",
            "tensor(0.)\n"
          ],
          "name": "stdout"
        }
      ]
    },
    {
      "cell_type": "code",
      "metadata": {
        "id": "qiQh2bMJas89",
        "colab_type": "code",
        "colab": {}
      },
      "source": [
        ""
      ],
      "execution_count": 0,
      "outputs": []
    }
  ]
}